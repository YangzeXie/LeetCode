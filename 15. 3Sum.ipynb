{
 "cells": [
  {
   "cell_type": "code",
   "execution_count": 87,
   "metadata": {},
   "outputs": [],
   "source": [
    "from typing import List\n",
    "class Solution:\n",
    "    def threeSum(self, nums: List[int]) -> List[List[int]]:\n",
    "        result = []\n",
    "        nums.sort()\n",
    "        if nums == [] or nums[0]>1 or nums[-1]<0:\n",
    "            return []\n",
    "        for k in range(len(nums)):\n",
    "            if nums[k]>0:\n",
    "                break\n",
    "            if k > 0 and (nums[k-1] == nums[k]):\n",
    "                continue\n",
    "            target = -nums[k]\n",
    "            i = k + 1\n",
    "            j = len(nums) - 1\n",
    "            while i < j:\n",
    "                if (nums[i] + nums[j]) == target:\n",
    "                    l =  [nums[k], nums[i], nums[j]]\n",
    "                    result.append(l)\n",
    "                    while i < j and (nums[i] == nums[i+1]):\n",
    "                        i += 1\n",
    "                    while i < j and (nums[j] == nums[j-1]):\n",
    "                        j -= 1\n",
    "                    i += 1\n",
    "                    j -= 1\n",
    "                elif (nums[i] + nums[j]) < target:\n",
    "                    i += 1\n",
    "                else:\n",
    "                    j -= 1\n",
    "        return result"
   ]
  },
  {
   "cell_type": "code",
   "execution_count": 88,
   "metadata": {},
   "outputs": [
    {
     "data": {
      "text/plain": [
       "[[-1, -1, 2], [-1, 0, 1]]"
      ]
     },
     "execution_count": 88,
     "metadata": {},
     "output_type": "execute_result"
    }
   ],
   "source": [
    "Solution().threeSum([-1, 0, 1, 2, -1, -4])"
   ]
  },
  {
   "cell_type": "code",
   "execution_count": null,
   "metadata": {},
   "outputs": [],
   "source": []
  }
 ],
 "metadata": {
  "kernelspec": {
   "display_name": "Python 3",
   "language": "python",
   "name": "python3"
  },
  "language_info": {
   "codemirror_mode": {
    "name": "ipython",
    "version": 3
   },
   "file_extension": ".py",
   "mimetype": "text/x-python",
   "name": "python",
   "nbconvert_exporter": "python",
   "pygments_lexer": "ipython3",
   "version": "3.7.1"
  }
 },
 "nbformat": 4,
 "nbformat_minor": 2
}
