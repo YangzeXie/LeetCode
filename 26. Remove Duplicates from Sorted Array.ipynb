{
 "cells": [
  {
   "cell_type": "code",
   "execution_count": 81,
   "metadata": {},
   "outputs": [],
   "source": [
    "from typing import List\n",
    "class Solution:\n",
    "    def removeDuplicates(self, nums: List[int]) -> int:\n",
    "        numMap = {}\n",
    "        for num in nums:\n",
    "            if num in numMap:\n",
    "                numMap[num] += 1\n",
    "            else:\n",
    "                numMap[num] = 1\n",
    "        del nums[:]\n",
    "        for key in numMap:\n",
    "            nums.append(key)\n",
    "        return len(numMap)\n",
    "    \n",
    "    def removeDuplicates2(self, nums: List[int]) -> int:\n",
    "        length = len(nums)\n",
    "        flag = True\n",
    "        i=0\n",
    "        j=1\n",
    "        while(j<len(nums)):\n",
    "            if(nums[i]==nums[j]):\n",
    "                del nums[j]\n",
    "            elif(nums[j]>nums[i]):\n",
    "                i=j\n",
    "                j+=1\n",
    "            \n",
    "        return len(nums)"
   ]
  },
  {
   "cell_type": "code",
   "execution_count": 82,
   "metadata": {},
   "outputs": [],
   "source": [
    "nums = [1,1,2]"
   ]
  },
  {
   "cell_type": "code",
   "execution_count": 83,
   "metadata": {},
   "outputs": [
    {
     "data": {
      "text/plain": [
       "2"
      ]
     },
     "execution_count": 83,
     "metadata": {},
     "output_type": "execute_result"
    }
   ],
   "source": [
    "Solution().removeDuplicates2(nums)"
   ]
  }
 ],
 "metadata": {
  "kernelspec": {
   "display_name": "Python 3",
   "language": "python",
   "name": "python3"
  },
  "language_info": {
   "codemirror_mode": {
    "name": "ipython",
    "version": 3
   },
   "file_extension": ".py",
   "mimetype": "text/x-python",
   "name": "python",
   "nbconvert_exporter": "python",
   "pygments_lexer": "ipython3",
   "version": "3.7.3"
  }
 },
 "nbformat": 4,
 "nbformat_minor": 2
}
