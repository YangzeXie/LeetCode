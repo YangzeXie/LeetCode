{
 "cells": [
  {
   "cell_type": "code",
   "execution_count": 102,
   "metadata": {},
   "outputs": [],
   "source": [
    "from typing import List\n",
    "class Solution:\n",
    "    def removeElement(self, nums: List[int], val: int) -> int:\n",
    "        nums.sort()\n",
    "        print(nums)\n",
    "        numsLen = len(nums)\n",
    "        left = numsLen\n",
    "        right = -1\n",
    "        for i in range(len(nums)):\n",
    "            if nums[i] == val:\n",
    "                left = min(left, i)\n",
    "                right = max(right, i)\n",
    "        del nums[left:right+1]\n",
    "        resultLen = len(nums)\n",
    "        return resultLen\n",
    "    \n",
    "    def removeElement2(self, nums: List[int], val: int) -> int:\n",
    "        i = 0\n",
    "        for j in range(len(nums)):\n",
    "            if nums[j] != val:\n",
    "                nums[i] = nums[j]\n",
    "                i += 1\n",
    "        return i"
   ]
  },
  {
   "cell_type": "code",
   "execution_count": 103,
   "metadata": {},
   "outputs": [
    {
     "name": "stdout",
     "output_type": "stream",
     "text": [
      "[0, 0, 1, 2, 2, 2, 3, 4]\n"
     ]
    },
    {
     "data": {
      "text/plain": [
       "5"
      ]
     },
     "execution_count": 103,
     "metadata": {},
     "output_type": "execute_result"
    }
   ],
   "source": [
    "Solution().removeElement([0,1,2,2,3,0,4,2], 2)"
   ]
  },
  {
   "cell_type": "code",
   "execution_count": 104,
   "metadata": {},
   "outputs": [
    {
     "data": {
      "text/plain": [
       "5"
      ]
     },
     "execution_count": 104,
     "metadata": {},
     "output_type": "execute_result"
    }
   ],
   "source": [
    "Solution().removeElement2([0,1,2,2,3,0,4,2], 2)"
   ]
  },
  {
   "cell_type": "code",
   "execution_count": null,
   "metadata": {},
   "outputs": [],
   "source": []
  }
 ],
 "metadata": {
  "kernelspec": {
   "display_name": "Python 3",
   "language": "python",
   "name": "python3"
  },
  "language_info": {
   "codemirror_mode": {
    "name": "ipython",
    "version": 3
   },
   "file_extension": ".py",
   "mimetype": "text/x-python",
   "name": "python",
   "nbconvert_exporter": "python",
   "pygments_lexer": "ipython3",
   "version": "3.7.3"
  }
 },
 "nbformat": 4,
 "nbformat_minor": 2
}
