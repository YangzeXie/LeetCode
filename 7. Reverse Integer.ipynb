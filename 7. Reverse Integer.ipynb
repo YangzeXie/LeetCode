{
 "cells": [
  {
   "cell_type": "code",
   "execution_count": 174,
   "metadata": {},
   "outputs": [],
   "source": [
    "class Solution:\n",
    "    def reverse(self, x: int) -> int:\n",
    "        length = 0\n",
    "        flag = 0\n",
    "        if x == 0:\n",
    "            return 0\n",
    "        if x > 0 :\n",
    "            length = len(str(x))\n",
    "        else : \n",
    "            length = len(str(x)) - 1\n",
    "            x = -x\n",
    "            flag = -1\n",
    "        num = 0\n",
    "        reverse_num = 0\n",
    "        for i in range(length):\n",
    "            num = x % 10\n",
    "            reverse_num = reverse_num + num*pow(10,length - i-1)\n",
    "            x =int(x / 10)\n",
    "            \n",
    "        if reverse_num > ((1<<31)-1) or reverse_num <-(1<<31):\n",
    "            return 0\n",
    "        if flag == -1:\n",
    "            return -reverse_num\n",
    "        else :\n",
    "            return reverse_num\n",
    "        \n",
    "    def reverse2(self, x: int) -> int:\n",
    "        reverse_num = 0\n",
    "        flag = 0\n",
    "        if x < 0:\n",
    "            flag = -1\n",
    "            x = -x\n",
    "        while x > 0:\n",
    "            reverse_num = reverse_num * 10 + x % 10\n",
    "            x = int(x / 10)\n",
    "        if reverse_num > ((1<<31)-1) or reverse_num <-(1<<31):\n",
    "            return 0 \n",
    "        if flag == -1:\n",
    "            return -reverse_num\n",
    "        return reverse_num"
   ]
  },
  {
   "cell_type": "code",
   "execution_count": 163,
   "metadata": {},
   "outputs": [
    {
     "data": {
      "text/plain": [
       "-21"
      ]
     },
     "execution_count": 163,
     "metadata": {},
     "output_type": "execute_result"
    }
   ],
   "source": [
    "Solution().reverse(-120)"
   ]
  },
  {
   "cell_type": "code",
   "execution_count": 164,
   "metadata": {},
   "outputs": [
    {
     "data": {
      "text/plain": [
       "-21"
      ]
     },
     "execution_count": 164,
     "metadata": {},
     "output_type": "execute_result"
    }
   ],
   "source": [
    "Solution().reverse2(-120)"
   ]
  },
  {
   "cell_type": "code",
   "execution_count": 160,
   "metadata": {},
   "outputs": [
    {
     "data": {
      "text/plain": [
       "3"
      ]
     },
     "execution_count": 160,
     "metadata": {},
     "output_type": "execute_result"
    }
   ],
   "source": [
    "123 % 10"
   ]
  },
  {
   "cell_type": "code",
   "execution_count": 134,
   "metadata": {},
   "outputs": [
    {
     "data": {
      "text/plain": [
       "12.3"
      ]
     },
     "execution_count": 134,
     "metadata": {},
     "output_type": "execute_result"
    }
   ],
   "source": [
    "123 /10"
   ]
  },
  {
   "cell_type": "code",
   "execution_count": 171,
   "metadata": {},
   "outputs": [],
   "source": [
    "temp = '123'"
   ]
  },
  {
   "cell_type": "code",
   "execution_count": 173,
   "metadata": {},
   "outputs": [
    {
     "data": {
      "text/plain": [
       "'23'"
      ]
     },
     "execution_count": 173,
     "metadata": {},
     "output_type": "execute_result"
    }
   ],
   "source": [
    "temp[1:]"
   ]
  },
  {
   "cell_type": "code",
   "execution_count": null,
   "metadata": {},
   "outputs": [],
   "source": []
  }
 ],
 "metadata": {
  "kernelspec": {
   "display_name": "Python 3",
   "language": "python",
   "name": "python3"
  },
  "language_info": {
   "codemirror_mode": {
    "name": "ipython",
    "version": 3
   },
   "file_extension": ".py",
   "mimetype": "text/x-python",
   "name": "python",
   "nbconvert_exporter": "python",
   "pygments_lexer": "ipython3",
   "version": "3.7.1"
  }
 },
 "nbformat": 4,
 "nbformat_minor": 2
}
